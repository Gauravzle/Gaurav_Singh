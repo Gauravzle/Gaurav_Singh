{
 "cells": [
  {
   "cell_type": "code",
   "execution_count": 1,
   "metadata": {},
   "outputs": [],
   "source": [
    "def calc_additional_risks(age, env_inp, hypertension_inp, diabetes_inp, cardiovascular_inp, respiratory_inp, immune_inp):\n",
    "\n",
    "    # print(\"Enter 0 for 'No' and 1 for 'Yes'\")\n",
    "    # age, env_inp, hypertension_inp, diabetes_inp, cardiovascular_inp, respiratory_inp, immune_inp, = \\\n",
    "    #     int(input(\"Age: \")), (input(\"Polluted Env? \")), (input(\"Hypertension? \")), (input(\"Diabetes? \")), \\\n",
    "    #     (input(\"Cardiovascular issues? \")), (input(\"Respiratory issues? \")), (input(\"Immunological issues? \"))\n",
    "\n",
    "    if env_inp == '1': env = True\n",
    "    else: env = False\n",
    "    if hypertension_inp == '1': hypertension = True\n",
    "    else: hypertension = False\n",
    "    if diabetes_inp == '1': diabetes = True\n",
    "    else: diabetes = False\n",
    "    if cardiovascular_inp == '1': cardiovascular = True\n",
    "    else: cardiovascular = False\n",
    "    if respiratory_inp == '1': respiratory = True\n",
    "    else: respiratory = False\n",
    "    if immune_inp == '1': immune = True\n",
    "    else: immune = False\n",
    "\n",
    "    print(age, env, hypertension, diabetes, cardiovascular, respiratory, immune, )\n",
    "\n",
    "    rm = 0.0\n",
    "\n",
    "    if age <= 10: rm += 0.5\n",
    "    elif age >= 80: rm += 1.5\n",
    "    elif age >= 60: rm += 1\n",
    "    elif age >= 50: rm += 0.5\n",
    "\n",
    "    if env: rm += 1\n",
    "    if hypertension: rm += 1.5\n",
    "    if diabetes: rm += 1.5\n",
    "    if cardiovascular: rm += 1\n",
    "    if respiratory: rm += 3\n",
    "    if immune: rm += 4\n",
    "\n",
    "    if rm > 10: rm = 10\n",
    "\n",
    "    return rm\n"
   ]
  },
  {
   "cell_type": "code",
   "execution_count": null,
   "metadata": {},
   "outputs": [],
   "source": []
  }
 ],
 "metadata": {
  "kernelspec": {
   "display_name": "Python 3",
   "language": "python",
   "name": "python3"
  },
  "language_info": {
   "codemirror_mode": {
    "name": "ipython",
    "version": 3
   },
   "file_extension": ".py",
   "mimetype": "text/x-python",
   "name": "python",
   "nbconvert_exporter": "python",
   "pygments_lexer": "ipython3",
   "version": "3.8.3"
  }
 },
 "nbformat": 4,
 "nbformat_minor": 4
}
